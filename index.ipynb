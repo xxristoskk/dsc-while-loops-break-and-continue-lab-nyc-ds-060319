{
 "cells": [
  {
   "cell_type": "markdown",
   "metadata": {},
   "source": [
    "# While Loops, Break and Continue - Lab"
   ]
  },
  {
   "cell_type": "markdown",
   "metadata": {},
   "source": [
    "## Introduction\n",
    "In this lab, we will practice using `while` loops, and `break` and `continue` statements in our code. We will use our control flow statements to iterate through collections and filter out or selectively operate on each element. We'll use `while` loops to perform operations until a given condition is no longer true."
   ]
  },
  {
   "cell_type": "markdown",
   "metadata": {},
   "source": [
    "## Objectives\n",
    "You will be able to:\n",
    "* Use a break and continue statements inside a loop\n",
    "* Understand, explain and use while loops"
   ]
  },
  {
   "cell_type": "markdown",
   "metadata": {},
   "source": [
    "## Instructions\n",
    "\n",
    "### While Loops\n",
    "Use while loops to perform the below operations and get the expected return values"
   ]
  },
  {
   "cell_type": "code",
   "execution_count": 1,
   "metadata": {},
   "outputs": [
    {
     "name": "stdout",
     "output_type": "stream",
     "text": [
      "Another slice eaten!\n",
      "Now eaten 1 slices!\n",
      "Another slice eaten!\n",
      "Now eaten 2 slices!\n",
      "Another slice eaten!\n",
      "Now eaten 3 slices!\n",
      "Another slice eaten!\n",
      "Now eaten 4 slices!\n",
      "Another slice eaten!\n",
      "Now eaten 5 slices!\n",
      "Another slice eaten!\n",
      "Now eaten 6 slices!\n"
     ]
    }
   ],
   "source": [
    "slices_of_pie = 6\n",
    "slices_eaten = 0\n",
    "# use a while loop to eat each slice of pie\n",
    "while slices_of_pie < 0:\n",
    "    slices_of_pie =- 1\n",
    "# add each slice to the slices_eaten variable\n",
    "for slice in range(slices_of_pie):\n",
    "    print('Another slice eaten!')\n",
    "    slices_eaten += 1\n",
    "    print('Now eaten {} slices!'.format(slices_eaten))"
   ]
  },
  {
   "cell_type": "code",
   "execution_count": 9,
   "metadata": {},
   "outputs": [
    {
     "name": "stdout",
     "output_type": "stream",
     "text": [
      "add pancake\n",
      "cook side 1\n",
      "flip pancake\n",
      "cook side 2\n",
      "remove pancake\n",
      "i have 1 pancakes now!\n",
      "add pancake\n",
      "cook side 1\n",
      "flip pancake\n",
      "cook side 2\n",
      "remove pancake\n",
      "i have 2 pancakes now!\n",
      "add pancake\n",
      "cook side 1\n",
      "flip pancake\n",
      "cook side 2\n",
      "remove pancake\n",
      "i have 3 pancakes now!\n",
      "add pancake\n",
      "cook side 1\n",
      "flip pancake\n",
      "cook side 2\n",
      "remove pancake\n",
      "i have 4 pancakes now!\n",
      "add pancake\n",
      "cook side 1\n",
      "flip pancake\n",
      "cook side 2\n",
      "remove pancake\n",
      "i have 5 pancakes now!\n"
     ]
    }
   ],
   "source": [
    "time_for_breakfast = 1468 # in seconds\n",
    "number_of_cooked_pancakes = 0\n",
    "\n",
    "while number_of_cooked_pancakes < 5:\n",
    "\n",
    "    print('add pancake')\n",
    "    time_for_breakfast -= 5 #add pancake\n",
    "    print('cook side 1')\n",
    "    time_for_breakfast -= 27 #side1\n",
    "    print('flip pancake')\n",
    "    time_for_breakfast -= 5 #flip pancake\n",
    "    print('cook side 2')\n",
    "    time_for_breakfast -= 27 #side2\n",
    "    print('remove pancake')\n",
    "    time_for_breakfast -= 5 #remove pancake\n",
    "    number_of_cooked_pancakes += 1\n",
    "    print(f'i have {number_of_cooked_pancakes} pancakes now!')\n",
    "    if time_for_breakfast > 0:\n",
    "        continue\n",
    "\n",
    "# use a while loop to make yourself 5 pancakes for breakfast\n",
    "# each pancake takes 27 seconds to cook on each side\n",
    "# it takes an average of 5 seconds to flip a pancake, add or remove a pancake from the pan.\n",
    "# you must decrease the time_for_breakfast each time you \n",
    "# add a pancake to the skillet (frying pan) or flip a pancake (i.e. 2 times per pancake)\n",
    "# there is only room for one pancake at a time"
   ]
  },
  {
   "cell_type": "markdown",
   "metadata": {},
   "source": [
    "## For Loops"
   ]
  },
  {
   "cell_type": "markdown",
   "metadata": {},
   "source": [
    "> **Hint:** You may find the [remove method](https://www.programiz.com/python-programming/methods/list/remove) to be useful for the next problem"
   ]
  },
  {
   "cell_type": "code",
   "execution_count": 2,
   "metadata": {},
   "outputs": [
    {
     "name": "stdout",
     "output_type": "stream",
     "text": [
      "[1, 3, 5, 7, 9, 11, 13, 15, 17, 19, 21, 23, 25, 27, 29]\n",
      "[0, 2, 4, 6, 8, 10, 12, 14, 16, 18, 20, 22, 24, 26, 28]\n"
     ]
    }
   ],
   "source": [
    "line_of_hungry_patrons = list(range(0,30))\n",
    "fed_patrons = []\n",
    "\n",
    "for x in line_of_hungry_patrons:\n",
    "    if x % 2 == 0:\n",
    "        fed_patrons.append(x)\n",
    "        line_of_hungry_patrons.remove(x)\n",
    "print(line_of_hungry_patrons)\n",
    "print(fed_patrons)\n",
    "\n",
    "# use a while loop to feed the hungry patrons who have an even number\n",
    "# add the patrons with an even number to the fed_patrons list\n",
    "# then remove the even numbered patrons from the line_of_hungry_patrons\n",
    "# each list should contain 15 elements"
   ]
  },
  {
   "cell_type": "markdown",
   "metadata": {},
   "source": [
    "### `break` And `continue` Statements"
   ]
  },
  {
   "cell_type": "markdown",
   "metadata": {},
   "source": [
    "We have a list of person objects with all kinds of attributes. We'll use loops to find a person that meets a certain requirement that we are looking for or create new lists with a certain subset of elements. Write for loops with conditional statements in conjunction with `break` and `continue` to get the desired output."
   ]
  },
  {
   "cell_type": "code",
   "execution_count": 1,
   "metadata": {},
   "outputs": [],
   "source": [
    "people = [\n",
    "    {'name': \"Daniel\", 'age': 29, 'job': \"Engineer\", 'pet': \"Cat\", 'pet_name': \"Gato\"}, \n",
    "    {'name': \"Katie\", 'age': 30, 'job': \"Teacher\", 'pet': \"Dog\", 'pet_name': \"Frank\"},\n",
    "    {'name': \"Owen\", 'age': 26, 'job': \"Sales person\", 'pet': \"Cat\", 'pet_name': \"Cosmo\"},\n",
    "    {'name': \"Josh\", 'age': 22, 'job': \"Student\", 'pet': \"Cat\", 'pet_name': \"Chat\"},\n",
    "    {'name': \"Estelle\", 'age': 35, 'job': \"French Diplomat\", 'pet': \"Dog\", 'pet_name': \"Gabby\"},\n",
    "    {'name': \"Gustav\", 'age': 24, 'job': \"Brewer\", 'pet': \"Dog\", 'pet_name': \"Helen\"}\n",
    "]"
   ]
  },
  {
   "cell_type": "code",
   "execution_count": 16,
   "metadata": {},
   "outputs": [
    {
     "name": "stdout",
     "output_type": "stream",
     "text": [
      "{'name': 'Katie', 'age': 30, 'job': 'Teacher', 'pet': 'Dog', 'pet_name': 'Frank'}\n"
     ]
    }
   ],
   "source": [
    "# use the for loop below to find the *first* person in the list of people that has a dog as their pet\n",
    "# the iteration count shouldn't exceed 2 iterations\n",
    "first_dog_person = None\n",
    "iteration_count = 0\n",
    "for person in people:\n",
    "    iteration_count += 1\n",
    "    if person['pet'] == 'Dog' and iteration_count <= 2:\n",
    "        first_dog_person = person\n",
    "    else:\n",
    "        continue\n",
    "print(first_dog_person)"
   ]
  },
  {
   "cell_type": "code",
   "execution_count": 21,
   "metadata": {},
   "outputs": [
    {
     "name": "stdout",
     "output_type": "stream",
     "text": [
      "['Owen', 'Josh']\n"
     ]
    }
   ],
   "source": [
    "# use a for loop to create a list of the cat owners who are under the age of 28\n",
    "cat_owners = list()\n",
    "# for loop goes here\n",
    "for person in people:\n",
    "    if person['pet'] == 'Cat' and person['age'] < 28:\n",
    "        cat_owners.append(person['name'])\n",
    "    else:\n",
    "        continue\n",
    "print(cat_owners)"
   ]
  },
  {
   "cell_type": "code",
   "execution_count": 23,
   "metadata": {},
   "outputs": [
    {
     "name": "stdout",
     "output_type": "stream",
     "text": [
      "{'name': 'Katie', 'age': 30, 'job': 'Teacher', 'pet': 'Dog', 'pet_name': 'Frank'}\n"
     ]
    }
   ],
   "source": [
    "# use a for loop to find the first person who is above 29 years old in our list of people\n",
    "# remember to use a break and or continue statement\n",
    "thirty_something_yr_old = None\n",
    "# for loop goes here\n",
    "for person in people:\n",
    "    if person['age'] > 29 and person['age']< 40:\n",
    "        thirty_something_yr_old = person\n",
    "        break\n",
    "    else:\n",
    "        continue\n",
    "print(person)\n",
    "        "
   ]
  },
  {
   "cell_type": "code",
   "execution_count": 25,
   "metadata": {},
   "outputs": [
    {
     "name": "stdout",
     "output_type": "stream",
     "text": [
      "['Katie', 'Estelle', 'Gustav']\n",
      "['Frank', 'Gabby', 'Helen']\n"
     ]
    }
   ],
   "source": [
    "# use a for loop to create a list of person names and another list of pet names for all dog owners\n",
    "dog_owner_names = list()\n",
    "dog_names = list()\n",
    "# for loop goes here\n",
    "for person in people:\n",
    "    if person['pet'] == 'Dog':\n",
    "        dog_owner_names.append(person['name'])\n",
    "        dog_names.append(person['pet_name'])\n",
    "print(dog_owner_names)\n",
    "print(dog_names)"
   ]
  },
  {
   "cell_type": "code",
   "execution_count": 7,
   "metadata": {},
   "outputs": [
    {
     "name": "stdout",
     "output_type": "stream",
     "text": [
      "[11, 13, 15, 17, 19, 21, 23, 25, 27, 29, 31, 33, 35, 37, 39, 41, 43, 45, 47, 49, 51, 53, 55, 57, 59, 61, 63, 65, 67, 69, 71, 73, 75, 77, 79]\n"
     ]
    }
   ],
   "source": [
    "# use a for loop to create a list of odd numbers from the list of numbers from 0 to 100\n",
    "# each time there is an odd number, add 10 to it and append it to the list_of_odd_numbers_plus_ten\n",
    "# stop adding numbers to the list when there are 35 numbers\n",
    "# use break and continue statements in your code\n",
    "list_of_numbers = list(range(0,100))\n",
    "list_of_odd_numbers_plus_ten = []\n",
    "for number in list_of_numbers:\n",
    "    if number % 2 != 0:\n",
    "        number += 10\n",
    "        list_of_odd_numbers_plus_ten.append(number)\n",
    "    elif len(list_of_odd_numbers_plus_ten) < 35:\n",
    "        continue\n",
    "    else:\n",
    "        break\n",
    "print(list_of_odd_numbers_plus_ten)"
   ]
  },
  {
   "cell_type": "markdown",
   "metadata": {},
   "source": [
    "## Summary"
   ]
  },
  {
   "cell_type": "markdown",
   "metadata": {},
   "source": [
    "In this lab, we practiced using while loops, which continue executing their block of code until the given condition is no longer truthy. This is useful for instances where we do not have a collection or do not need a collection to solve our problem, especially when we would only like to stop the process according to a certain condition. We then practiced using control flow statements, `break` and `continue`, to selectively operate on elements, append them to new lists, or assign them to new variables."
   ]
  }
 ],
 "metadata": {
  "kernelspec": {
   "display_name": "learn-env",
   "language": "python",
   "name": "learn-env"
  },
  "language_info": {
   "codemirror_mode": {
    "name": "ipython",
    "version": 3
   },
   "file_extension": ".py",
   "mimetype": "text/x-python",
   "name": "python",
   "nbconvert_exporter": "python",
   "pygments_lexer": "ipython3",
<<<<<<< HEAD
   "version": "3.7.3"
=======
   "version": "3.6.6"
>>>>>>> faa2f8f16d777558eee0208c071b27e7330c295d
  }
 },
 "nbformat": 4,
 "nbformat_minor": 2
}
